{
 "cells": [
  {
   "cell_type": "markdown",
   "metadata": {},
   "source": [
    "# Chapter 4"
   ]
  },
  {
   "cell_type": "markdown",
   "metadata": {},
   "source": [
    "04_BayesUpdate.py  \n",
    "Bayesian updating of beliefs about the bias of a coin. The prior and posterior\n",
    "distributions indicate probability masses at discrete candidate values of theta."
   ]
  },
  {
   "cell_type": "code",
   "execution_count": 3,
   "metadata": {},
   "outputs": [],
   "source": [
    "import numpy as np\n",
    "import matplotlib.pyplot as plt\n",
    "%matplotlib inline"
   ]
  },
  {
   "cell_type": "code",
   "execution_count": 21,
   "metadata": {},
   "outputs": [
    {
     "name": "stderr",
     "output_type": "stream",
     "text": [
      "/home/james/Programs/anaconda3/envs/py36-Bayes/lib/python3.6/site-packages/ipykernel_launcher.py:4: DeprecationWarning: object of type <class 'float'> cannot be safely interpreted as an integer.\n",
      "  after removing the cwd from sys.path.\n"
     ]
    }
   ],
   "source": [
    "n_theta_vals = 3.\n",
    "\n",
    "# Now make the vector of theta values:\n",
    "theta = np.linspace(1/(n_theta_vals +1), n_theta_vals /(n_theta_vals +1), n_theta_vals )"
   ]
  },
  {
   "cell_type": "code",
   "execution_count": 5,
   "metadata": {},
   "outputs": [
    {
     "data": {
      "text/plain": [
       "array([ 0.25,  0.5 ,  0.75])"
      ]
     },
     "execution_count": 5,
     "metadata": {},
     "output_type": "execute_result"
    }
   ],
   "source": [
    "theta"
   ]
  },
  {
   "cell_type": "code",
   "execution_count": 22,
   "metadata": {},
   "outputs": [],
   "source": [
    "# p_theta is the vector of prior probabilities on the theta values.\n",
    "p_theta = np.minimum(theta, 1-theta)  # Makes a triangular belief distribution.\n",
    "p_theta = p_theta / np.sum(p_theta)     # Makes sure that beliefs sum to 1."
   ]
  },
  {
   "cell_type": "code",
   "execution_count": 23,
   "metadata": {},
   "outputs": [
    {
     "data": {
      "text/plain": [
       "array([ 0.25,  0.5 ,  0.25])"
      ]
     },
     "execution_count": 23,
     "metadata": {},
     "output_type": "execute_result"
    }
   ],
   "source": [
    "p_theta"
   ]
  },
  {
   "cell_type": "code",
   "execution_count": 24,
   "metadata": {},
   "outputs": [],
   "source": [
    "data = np.repeat([1, 0], [3, 9])\n",
    "n_heads = np.sum(data)\n",
    "n_tails = len(data) - n_heads"
   ]
  },
  {
   "cell_type": "code",
   "execution_count": 9,
   "metadata": {},
   "outputs": [
    {
     "data": {
      "text/plain": [
       "array([1, 1, 1, 0, 0, 0, 0, 0, 0, 0, 0, 0])"
      ]
     },
     "execution_count": 9,
     "metadata": {},
     "output_type": "execute_result"
    }
   ],
   "source": [
    "data"
   ]
  },
  {
   "cell_type": "code",
   "execution_count": 25,
   "metadata": {},
   "outputs": [],
   "source": [
    "# Compute the likelihood of the data for each value of theta:\n",
    "p_data_given_theta = theta**n_heads * (1-theta)**n_tails"
   ]
  },
  {
   "cell_type": "code",
   "execution_count": 18,
   "metadata": {},
   "outputs": [],
   "source": [
    "# Compute the posterior:\n",
    "p_data = np.sum(p_data_given_theta * p_theta)\n",
    "p_theta_given_data = p_data_given_theta * p_theta / p_data   # This is Bayes' rule!"
   ]
  },
  {
   "cell_type": "code",
   "execution_count": 19,
   "metadata": {},
   "outputs": [
    {
     "data": {
      "image/png": "[encoded data removed]",
      "text/plain": [
       "<matplotlib.figure.Figure at 0x7f54c2a72080>"
      ]
     },
     "metadata": {},
     "output_type": "display_data"
    }
   ],
   "source": [
    "# Plot the results.\n",
    "plt.figure(figsize=(12, 11))\n",
    "plt.subplots_adjust(hspace=0.7)\n",
    "\n",
    "# Plot the prior:\n",
    "plt.subplot(3, 1, 1)\n",
    "plt.stem(theta, p_theta, markerfmt=' ')\n",
    "plt.xlim(0, 1)\n",
    "plt.xlabel('$\\\\theta$')\n",
    "plt.ylabel('$P(\\\\theta)$')\n",
    "plt.title('Prior')\n",
    "\n",
    "# Plot the likelihood:\n",
    "plt.subplot(3, 1, 2)\n",
    "plt.stem(theta, p_data_given_theta, markerfmt=' ')\n",
    "plt.xlim(0, 1)\n",
    "plt.xlabel('$\\\\theta$')\n",
    "plt.ylabel('$P(D|\\\\theta)$')\n",
    "plt.title('Likelihood')\n",
    "plt.text(0.6, np.max(p_data_given_theta)/2, 'D = %sH,%sT' % (n_heads, n_tails))\n",
    "\n",
    "# Plot the posterior:\n",
    "plt.subplot(3, 1, 3)\n",
    "plt.stem(theta, p_theta_given_data, markerfmt=' ')\n",
    "plt.xlim(0, 1)\n",
    "plt.xlabel('$\\\\theta$')\n",
    "plt.ylabel('$P(\\\\theta|D)$')\n",
    "plt.title('Posterior')\n",
    "plt.text(0.6, np.max(p_theta_given_data)/2, 'P(D) = %g' % p_data)\n",
    "plt.show()"
   ]
  }
 ],
 "metadata": {
  "kernelspec": {
   "display_name": "Python 3",
   "language": "python",
   "name": "python3"
  },
  "language_info": {
   "codemirror_mode": {
    "name": "ipython",
    "version": 3
   },
   "file_extension": ".py",
   "mimetype": "text/x-python",
   "name": "python",
   "nbconvert_exporter": "python",
   "pygments_lexer": "ipython3",
   "version": "3.7.1"
  }
 },
 "nbformat": 4,
 "nbformat_minor": 2
}
